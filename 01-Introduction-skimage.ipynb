{
 "cells": [
  {
   "cell_type": "markdown",
   "metadata": {},
   "source": [
    "# Introduction to Image Processing\n",
    "\n",
    "Guillaume Lemaitre - Fabrice Meriaudeau\n",
    "\n",
    "## Introduction to scikit-image"
   ]
  },
  {
   "cell_type": "markdown",
   "metadata": {},
   "source": [
    "The modules which are commonly used are entered in the following cell."
   ]
  },
  {
   "cell_type": "code",
   "execution_count": 1,
   "metadata": {
    "collapsed": false
   },
   "outputs": [
    {
     "name": "stdout",
     "output_type": "stream",
     "text": [
      "Pretty printing has been turned OFF\n"
     ]
    }
   ],
   "source": [
    "%matplotlib inline\n",
    "%pprint off\n",
    "\n",
    "# Matplotlib library\n",
    "import matplotlib.pyplot as plt\n",
    "from matplotlib import cm\n",
    "\n",
    "# Numpy library\n",
    "import numpy as np"
   ]
  },
  {
   "cell_type": "markdown",
   "metadata": {},
   "source": [
    "### Image in skimage"
   ]
  },
  {
   "cell_type": "markdown",
   "metadata": {},
   "source": [
    "The first step of this practise is to learn the procedure to deal with image in `python`.\n",
    "\n",
    "In this regard, you will need to refer to two main modules of *skimage*. The first module will give all information about [input-output](http://scikit-image.org/docs/dev/api/skimage.io.html) in order to read, write, and show image. The second module is as important and refers to the [utility functions](http://scikit-image.org/docs/stable/api/skimage.html) which allow you to know what is the data type of the images."
   ]
  },
  {
   "cell_type": "markdown",
   "metadata": {},
   "source": [
    "#### IO module"
   ]
  },
  {
   "cell_type": "markdown",
   "metadata": {},
   "source": [
    "In this part, you will rely on the module **io** of the `skimage`. This module can be imported as:"
   ]
  },
  {
   "cell_type": "code",
   "execution_count": 3,
   "metadata": {
    "collapsed": true
   },
   "outputs": [],
   "source": [
    "from skimage import io"
   ]
  },
  {
   "cell_type": "markdown",
   "metadata": {},
   "source": [
    "Now, any function of this module can be called by `io.name_of_the_function`. See the following [webpage](http://scikit-image.org/docs/dev/api/skimage.io.html) to know all the functions available and the arguments of each of them."
   ]
  },
  {
   "cell_type": "markdown",
   "metadata": {},
   "source": [
    "##### imread() and imshow()"
   ]
  },
  {
   "cell_type": "markdown",
   "metadata": {},
   "source": [
    "We will first play with the functions `io.imread()` and `io.imshow()` in order to read and show images. Refer to the documentation to know about the input and output arguments associated with this function. "
   ]
  },
  {
   "cell_type": "markdown",
   "metadata": {},
   "source": [
    "**The first task will be to read the grayscale image called `lena-grey.bmp` and show the output.**"
   ]
  },
  {
   "cell_type": "code",
   "execution_count": null,
   "metadata": {
    "collapsed": false
   },
   "outputs": [],
   "source": [
    "filename='./images/lena-grey.bmp'\n",
    "my_image=io.imread(filename)\n",
    "io.imshow(my_image)"
   ]
  },
  {
   "cell_type": "markdown",
   "metadata": {},
   "source": [
    "**In order to understand, the data type of this image, you can print the shape and data type of the image read.** Refer to function [`shape()`](http://docs.scipy.org/doc/numpy/reference/generated/numpy.ndarray.shape.html) and [`dtype()`](http://docs.scipy.org/doc/numpy/reference/generated/numpy.dtype.html) from the `numpy` library."
   ]
  },
  {
   "cell_type": "code",
   "execution_count": null,
   "metadata": {
    "collapsed": false
   },
   "outputs": [],
   "source": [
    "my_image.shape\n",
    "my_image.dtype"
   ]
  },
  {
   "cell_type": "markdown",
   "metadata": {},
   "source": [
    "The `io.imshow()` function is provided by the `skimage` library. However, it is interesting to know that this function is herited from the very well known `matplotlib` library. This library has been imported in the preamble of this document and can be called with the prefix `plt`. For instance, we can show an image as:"
   ]
  },
  {
   "cell_type": "code",
   "execution_count": null,
   "metadata": {
    "collapsed": false
   },
   "outputs": [],
   "source": [
    "# Show the same image using matplotlib library\n",
    "plt.imshow(my_image)"
   ]
  },
  {
   "cell_type": "markdown",
   "metadata": {},
   "source": [
    "You can see that this image is displayed with false color. Each gray level is replaced by a given color. In this specific case, bright colors are represented by red-ish and dark colors by blue-ish. This mapping is known as `colormap`. To obtain similar results than in `skimage`, we need to apply a grey colormap. More information about colormap can be found [here](http://matplotlib.org/examples/color/colormaps_reference.html).\n"
   ]
  },
  {
   "cell_type": "code",
   "execution_count": null,
   "metadata": {
    "collapsed": false
   },
   "outputs": [],
   "source": [
    "# Show the same image using matplotlib library and a grey colormap\n",
    "plt.imshow(my_image, cmap=cm.Greys_r)"
   ]
  },
  {
   "cell_type": "markdown",
   "metadata": {},
   "source": [
    "You can do the same manipulation and open a color image using the file `vibot-color.jpg`"
   ]
  },
  {
   "cell_type": "code",
   "execution_count": null,
   "metadata": {
    "collapsed": false
   },
   "outputs": [],
   "source": [
    "# Read the Vibot image which is a color image\n",
    "filename = './images/vibot-color.jpg'\n",
    "vibot_im = io.imread(filename)\n",
    "\n",
    "# Print information about the shape of the image and type\n",
    "print 'The shape of the image is {} and the data type is {}'.format(vibot_im.shape, vibot_im.dtype)\n",
    "\n",
    "# Show the image\n",
    "io.imshow(vibot_im)"
   ]
  },
  {
   "cell_type": "markdown",
   "metadata": {},
   "source": [
    "**Check the documentation of the function `imread` and open the previous color image as a grey scale image.**"
   ]
  },
  {
   "cell_type": "code",
   "execution_count": null,
   "metadata": {
    "collapsed": false
   },
   "outputs": [],
   "source": [
    "vibot_im_c = io.imread(filename,True)\n",
    "io.imshow(vibot_im_c)"
   ]
  },
  {
   "cell_type": "markdown",
   "metadata": {},
   "source": [
    "Observe attentively the change of the data type."
   ]
  },
  {
   "cell_type": "markdown",
   "metadata": {},
   "source": [
    "##### Data type"
   ]
  },
  {
   "cell_type": "markdown",
   "metadata": {},
   "source": [
    "It is important to understand which type of data do you obtain once the image is loaded. Subsequent algorithms will require a certain type (*ie.*, float, unsigned int) included in a certain data range. That is why, you need to refer to the [utility functions](http://scikit-image.org/docs/stable/api/skimage.html) in order to perform the right conversion between types.\n",
    "\n",
    "**Re-open the data from the grey-scale image `lena-grey.bmp` and print the matrix and the type which have been loaded by default.**"
   ]
  },
  {
   "cell_type": "code",
   "execution_count": null,
   "metadata": {
    "collapsed": false
   },
   "outputs": [],
   "source": [
    "print my_image\n",
    "my_image.dtype"
   ]
  },
  {
   "cell_type": "markdown",
   "metadata": {},
   "source": [
    "A set of functions allow to make automatic conversion between type and range and can be called as `img_as_type()`. \n",
    "\n",
    "Usually, algorithms expect images as float type in the range [0.0, 1.0]. However, the previous data were coded with 8-bits unsigned integer. \n",
    "\n",
    "**Convert the data into float included in the range [0.0, 1.0].**"
   ]
  },
  {
   "cell_type": "code",
   "execution_count": 4,
   "metadata": {
    "collapsed": false
   },
   "outputs": [
    {
     "ename": "NameError",
     "evalue": "name 'my_image' is not defined",
     "output_type": "error",
     "traceback": [
      "\u001b[1;31m---------------------------------------------------------------------------\u001b[0m",
      "\u001b[1;31mNameError\u001b[0m                                 Traceback (most recent call last)",
      "\u001b[1;32m<ipython-input-4-498408b61c0b>\u001b[0m in \u001b[0;36m<module>\u001b[1;34m()\u001b[0m\n\u001b[0;32m      1\u001b[0m \u001b[1;32mfrom\u001b[0m \u001b[0mskimage\u001b[0m \u001b[1;32mimport\u001b[0m \u001b[0mimg_as_float\u001b[0m\u001b[1;33m\u001b[0m\u001b[0m\n\u001b[1;32m----> 2\u001b[1;33m \u001b[0mmy_image_float\u001b[0m\u001b[1;33m=\u001b[0m\u001b[0mimg_as_float\u001b[0m\u001b[1;33m(\u001b[0m\u001b[0mmy_image\u001b[0m\u001b[1;33m)\u001b[0m\u001b[1;33m\u001b[0m\u001b[0m\n\u001b[0m\u001b[0;32m      3\u001b[0m \u001b[1;32mprint\u001b[0m \u001b[0mmy_image_float\u001b[0m\u001b[1;33m\u001b[0m\u001b[0m\n",
      "\u001b[1;31mNameError\u001b[0m: name 'my_image' is not defined"
     ]
    }
   ],
   "source": [
    "from skimage import img_as_float\n",
    "my_image_float=img_as_float(my_image)\n",
    "print my_image_float"
   ]
  },
  {
   "cell_type": "markdown",
   "metadata": {},
   "source": [
    "From now, you are good to go in the world of digital image processing. However, always take care about the type of data you are dealing with and what results you are expecting from the different processes."
   ]
  },
  {
   "cell_type": "markdown",
   "metadata": {},
   "source": [
    "### Basic transformation functions"
   ]
  },
  {
   "cell_type": "markdown",
   "metadata": {},
   "source": [
    "First, we will dig into the different basic transformation functions which allows to improve the contrast of grey scale images. All these functions are part of the `exposure` module of `skimage`."
   ]
  },
  {
   "cell_type": "code",
   "execution_count": 6,
   "metadata": {
    "collapsed": true
   },
   "outputs": [],
   "source": [
    "# We can import this module now\n",
    "from skimage import exposure"
   ]
  },
  {
   "cell_type": "markdown",
   "metadata": {},
   "source": [
    "As previously done with the module `io`, you can use any function of this module using `exposure.name_of_the_function()`."
   ]
  },
  {
   "cell_type": "markdown",
   "metadata": {},
   "source": [
    "#### Log transformations"
   ]
  },
  {
   "cell_type": "markdown",
   "metadata": {},
   "source": [
    "The log transformation increases the contrast of the low intensities in an image by stretching a narrow range of these low intensities into a wider range of intensities. However, the opposite is taking place regarding the high intensities.\n",
    "\n",
    "Refer to [`exposure.adjust_log()`](http://scikit-image.org/docs/dev/api/skimage.exposure.html#adjust-log) for the use of this function.\n",
    "\n",
    "We recall the transformation function $s = c \\log(1 + r)$. We illustrate this transformation by varying the parameter $c$."
   ]
  },
  {
   "cell_type": "code",
   "execution_count": null,
   "metadata": {
    "collapsed": false,
    "scrolled": true
   },
   "outputs": [],
   "source": [
    "# Define a set of 256 values ranging from 0 to 255\n",
    "x = np.arange(255, dtype='uint8')\n",
    "\n",
    "# Define the parameter c\n",
    "c = np.linspace(.1, 1.2, num=10)\n",
    "print c\n",
    "# Plot the transform function\n",
    "plt.figure()\n",
    "for c_par in c:\n",
    "    plt.plot(x, exposure.adjust_log(x, gain = c_par))\n",
    "plt.xlabel('Input intensities')\n",
    "plt.ylabel('Output intensities')\n",
    "plt.title('Log transformation function')\n",
    "plt.axis('tight')\n",
    "plt.show()"
   ]
  },
  {
   "cell_type": "markdown",
   "metadata": {},
   "source": [
    "**Now this is your turn to make this transformation on a real image. Compute the magnitude of the Discrete Fourier Transform (DFT) of `lena-grey.bmp`. Apply the `np.fft.fft2()` as well as `np.abs()` function. Display the low frequency at the center of the image using the function `np.fft.fftshift()`.**\n",
    "\n",
    "Additionaly, we provide the code to show the histogram of the image. \n",
    "\n",
    "**Later, use the log transformation to increase the contrast of the magnitude image. Display the resulting image as well as its histogram.**"
   ]
  },
  {
   "cell_type": "code",
   "execution_count": null,
   "metadata": {
    "collapsed": false
   },
   "outputs": [],
   "source": [
    "io.imshow(my_image)\n",
    "plt.figure()\n",
    "my_image_fft=np.fft.fft2(my_image)\n",
    "my_image_fft_mag=np.abs(my_image_fft)\n",
    "my_image_show=np.fft.fftshift(my_image_fft_mag)\n",
    "io.imshow(my_image_show)\n",
    "plt.figure()\n",
    "my_image_log = exposure.adjust_log(my_image_show, gain = 1)\n",
    "io.imshow(my_image_log)\n",
    "# Provided code to show the histogram\n",
    "plt.figure()\n",
    "n, bins, patches = plt.hist(my_image_log.flatten(), 256, range=(0., np.max(my_image_log.flatten())),\n",
    "                            normed=1, histtype='stepfilled')"
   ]
  },
  {
   "cell_type": "code",
   "execution_count": null,
   "metadata": {
    "collapsed": false
   },
   "outputs": [],
   "source": []
  },
  {
   "cell_type": "markdown",
   "metadata": {},
   "source": [
    "Note that you can compute the inverse function using the input argument `inv=True`. "
   ]
  },
  {
   "cell_type": "markdown",
   "metadata": {},
   "source": [
    "#### Power-Law (Gamma) transformation"
   ]
  },
  {
   "cell_type": "markdown",
   "metadata": {},
   "source": [
    "By looking at the log transformation formulation, there is no ideal way to change the slope of the function. The gamma transformation offer this modulation using a parameter $\\gamma$. The transformation function can be formulated as $s = cr^{\\gamma}$.\n",
    "\n",
    "We illustrate this transformation by varying the parameter $\\gamma$."
   ]
  },
  {
   "cell_type": "code",
   "execution_count": null,
   "metadata": {
    "collapsed": false
   },
   "outputs": [],
   "source": [
    "# Define a set of 256 values ranging from 0 to 255\n",
    "x = np.arange(256, dtype='uint8')\n",
    "\n",
    "# Define the parameter c\n",
    "gamma = np.logspace(-1, 1., num=20)\n",
    "\n",
    "# Plot the transform function\n",
    "plt.figure()\n",
    "print gamma\n",
    "for g in gamma:\n",
    "    plt.plot(x, exposure.adjust_gamma(x, gamma=g, gain=1.))\n",
    "plt.xlabel('Input intensities')\n",
    "plt.ylabel('Output intensities')\n",
    "plt.title('Gamma transformation function')\n",
    "plt.axis('tight')\n",
    "plt.show()"
   ]
  },
  {
   "cell_type": "markdown",
   "metadata": {},
   "source": [
    "**Use the gamma function to enhance the image for 10 different values of $\\gamma$.**"
   ]
  },
  {
   "cell_type": "code",
   "execution_count": null,
   "metadata": {
    "collapsed": false
   },
   "outputs": [],
   "source": [
    "gam = np.logspace(-1, 1., num=10)\n",
    "for ga in gam:\n",
    "    my_image_trans=exposure.adjust_gamma(my_image, gamma=ga, gain=1.)\n",
    "    plt.figure()\n",
    "    io.imshow(my_image_trans)\n",
    "# Provided code to show the histogram\n",
    "plt.figure()\n",
    "n, bins, patches = plt.hist(my_image_trans.flatten(), 256, range=(0., np.max(my_image_trans.flatten())),\n",
    "                            normed=1, histtype='stepfilled')"
   ]
  },
  {
   "cell_type": "markdown",
   "metadata": {},
   "source": [
    "#### Sigmoid transformation"
   ]
  },
  {
   "cell_type": "markdown",
   "metadata": {},
   "source": [
    "We did not presented this function during the lecture. However, it can be used to enhance the contrast in images.\n",
    "\n",
    "The transformation function is formulated as $s = \\frac{1}{1 + \\exp{\\left(c(t - r)\\right)}}$.\n",
    "\n",
    "We will illustrate the function by varying the parameter $t$."
   ]
  },
  {
   "cell_type": "code",
   "execution_count": 19,
   "metadata": {
    "collapsed": false
   },
   "outputs": [
    {
     "name": "stdout",
     "output_type": "stream",
     "text": [
      "[ 100.  125.  150.  175.  200.]\n"
     ]
    },
    {
     "data": {
      "image/png": "[encoded data removed]",
      "text/plain": [
       "<matplotlib.figure.Figure object at 0x7fbe4ebb0210>"
      ]
     },
     "metadata": {},
     "output_type": "display_data"
    }
   ],
   "source": [
    "# Define a set of 256 values ranging from 0 to 255\n",
    "x = np.arange(256, dtype='float') / 255.\n",
    "\n",
    "# Define the parameter c\n",
    "cut_off = np.linspace(100., 200., num=5)\n",
    "print cut_off\n",
    "# Plot the transform function\n",
    "plt.figure()\n",
    "for t in cut_off:\n",
    "    plt.plot(x, exposure.adjust_sigmoid(x, cutoff=0.7, gain=10000))\n",
    "plt.xlabel('Input intensities')\n",
    "plt.ylabel('Output intensities')\n",
    "plt.title('Sigmoid transformation function')\n",
    "plt.axis('tight')\n",
    "plt.show()"
   ]
  },
  {
   "cell_type": "markdown",
   "metadata": {},
   "source": [
    "**Improve the contrast of the image `satellite.jpg` by setting the cut-off, once you observe the histogram of the image. You can set a gain equal to 10.**"
   ]
  },
  {
   "cell_type": "code",
   "execution_count": 20,
   "metadata": {
    "collapsed": false
   },
   "outputs": [
    {
     "data": {
      "text/plain": [
       "dtype('float64')"
      ]
     },
     "execution_count": 20,
     "metadata": {},
     "output_type": "execute_result"
    },
    {
     "data": {
      "image/png": "[encoded data removed]",
      "text/plain": [
       "<matplotlib.figure.Figure object at 0x7fbe4ee4ae50>"
      ]
     },
     "metadata": {},
     "output_type": "display_data"
    },
    {
     "data": {
      "image/png": "[encoded data removed]",
      "text/plain": [
       "<matplotlib.figure.Figure object at 0x7fbe4ecfdad0>"
      ]
     },
     "metadata": {},
     "output_type": "display_data"
    },
    {
     "data": {
      "image/png": "[encoded data removed]",
      "text/plain": [
       "<matplotlib.figure.Figure object at 0x7fbe4ebe6ad0>"
      ]
     },
     "metadata": {},
     "output_type": "display_data"
    },
    {
     "data": {
      "image/png": "[encoded data removed]",
      "text/plain": [
       "<matplotlib.figure.Figure object at 0x7fbe54179290>"
      ]
     },
     "metadata": {},
     "output_type": "display_data"
    }
   ],
   "source": [
    "filename2='./images/satellite.jpg'\n",
    "\n",
    "my_2_image=img_as_float(io.imread(filename2, as_grey=True))\n",
    "io.imshow(my_2_image)\n",
    "plt.figure()\n",
    "n, bins, patches = plt.hist(my_2_image.flatten(), 256, range=(0., np.max(my_2_image.flatten())),\n",
    "                            normed=1, histtype='stepfilled')\n",
    "\n",
    "my_2_image_sig=exposure.adjust_sigmoid(my_2_image, cutoff=0.65, gain=10000)\n",
    "\n",
    "plt.figure()\n",
    "io.imshow(my_2_image_sig)\n",
    "plt.figure()\n",
    "n, bins, patches = plt.hist(my_2_image_sig.flatten(), 256, range=(0., np.max(my_2_image_sig.flatten())),\n",
    "                            normed=1, histtype='stepfilled')\n",
    "my_2_image_sig.dtype\n",
    "#print my_2_image_sig\n",
    "#y_2_image_sig.shape"
   ]
  },
  {
   "cell_type": "markdown",
   "metadata": {},
   "source": [
    "#### Contrast stretching"
   ]
  },
  {
   "cell_type": "markdown",
   "metadata": {},
   "source": [
    "Taking the satellite image as an example, it can be noticed that the intensitites are included in the range [0.6, 0.8]. A simple contrast stretching can be used to map the value of the intensity range [0.0, 1.0].\n",
    "\n",
    "The function `exposure.rescale_intensity` is devoted for this purpose.\n",
    "\n",
    "**Stretch the intensity value using this function.**"
   ]
  },
  {
   "cell_type": "code",
   "execution_count": null,
   "metadata": {
    "collapsed": false
   },
   "outputs": [],
   "source": []
  },
  {
   "cell_type": "markdown",
   "metadata": {},
   "source": [
    "### Histogram processing"
   ]
  },
  {
   "cell_type": "markdown",
   "metadata": {},
   "source": [
    "#### Histogram equalization"
   ]
  },
  {
   "cell_type": "markdown",
   "metadata": {},
   "source": [
    "Histogram equalization can be used to enhance the contrast in images.\n",
    "\n",
    "The idea behind the histogram equalization process is that each gray level should have an equal contribution in the image. The function allowing such transformation is in fact the cumulative density function.\n",
    "\n",
    "The `exposure.equalize_hist` provide an optimized implementation for such processing. \n",
    "\n",
    "**Equalize the histogram of the satellite image.**"
   ]
  },
  {
   "cell_type": "code",
   "execution_count": null,
   "metadata": {
    "collapsed": false
   },
   "outputs": [],
   "source": []
  },
  {
   "cell_type": "markdown",
   "metadata": {},
   "source": [
    "#### Adaptive (local) histogram equalization"
   ]
  },
  {
   "cell_type": "markdown",
   "metadata": {},
   "source": [
    "The histogram equalization is a global process. The adaptive version allows to perform the histogram equalization for local areas. The contrast will be enhanced in dark and light area of an image which was not possible with the global processing.\n",
    "\n",
    "The `exposure.equalize_adapthist` function corresponds to this processing in the `skimage`.\n",
    "\n",
    "**Apply this algorithm for the satellite image with the default parameters regarding the region definition.**"
   ]
  },
  {
   "cell_type": "code",
   "execution_count": null,
   "metadata": {
    "collapsed": false
   },
   "outputs": [],
   "source": []
  },
  {
   "cell_type": "markdown",
   "metadata": {},
   "source": [
    "Compare the results obtained with the global version of histogram equalization. Compare also the histogram obtained."
   ]
  },
  {
   "cell_type": "markdown",
   "metadata": {},
   "source": []
  },
  {
   "cell_type": "markdown",
   "metadata": {},
   "source": [
    "### Spatial filtering"
   ]
  },
  {
   "cell_type": "markdown",
   "metadata": {},
   "source": [
    "#### Convolution by (almost) by hand"
   ]
  },
  {
   "cell_type": "markdown",
   "metadata": {},
   "source": [
    "In the lecture, we saw that the convolution is the mathematical operator allowing to filter an image. \n",
    "\n",
    "The function [`ndimage.filters.convolve`](http://docs.scipy.org/doc/scipy/reference/generated/scipy.ndimage.filters.convolve.html#scipy.ndimage.filters.convolve) from `scipy` allows to compute the convolution between a mask (filter) and an image.\n",
    "\n",
    "**Use this image to filter the Lena image using a mean filter of size $9 \\times 9$. You can use the function `np.ones` from `numpy` to create the proper mask.**"
   ]
  },
  {
   "cell_type": "code",
   "execution_count": null,
   "metadata": {
    "collapsed": true
   },
   "outputs": [],
   "source": [
    "from scipy import ndimage"
   ]
  },
  {
   "cell_type": "code",
   "execution_count": null,
   "metadata": {
    "collapsed": false
   },
   "outputs": [],
   "source": []
  },
  {
   "cell_type": "markdown",
   "metadata": {},
   "source": [
    "Any filtering will work is a similar manner. Only the mask (filter) will change and will define the nature of the filtering."
   ]
  },
  {
   "cell_type": "markdown",
   "metadata": {},
   "source": [
    "#### Common spatial filtering"
   ]
  },
  {
   "cell_type": "markdown",
   "metadata": {},
   "source": [
    "In this section, you will learn about spatial filters which are commonly used in image processing. These filters were already implemented in `skimage` and can be directly used without applying the previous processing.\n",
    "\n",
    "The modules `filters` and `filters.rank` implement well known filters."
   ]
  },
  {
   "cell_type": "code",
   "execution_count": null,
   "metadata": {
    "collapsed": true
   },
   "outputs": [],
   "source": [
    "from skimage import filters"
   ]
  },
  {
   "cell_type": "markdown",
   "metadata": {},
   "source": [
    "#####  First-order edge detector"
   ]
  },
  {
   "cell_type": "markdown",
   "metadata": {},
   "source": [
    "We already saw during the lecture the following edge detectors: (i) Roberts, (ii) Prewitt, and (iii) Sobel.\n",
    "All these operators are an approximation of the first derivative. They are highly sensitive to noise even if Prewitt and Sobel have a smoothing process embedded.\n",
    "\n",
    "Scharr opearator as an improved version of Sobel such that the operator provides a rotational symmetry.\n",
    "\n",
    "The following functions are defined in `skimage`: `filters.roberts`, `filters.prewitt`, `filters.sobel`, and `filters.scharr`. \n",
    "\n",
    "**Apply these different filters on Lena image.**"
   ]
  },
  {
   "cell_type": "code",
   "execution_count": null,
   "metadata": {
    "collapsed": false
   },
   "outputs": [],
   "source": []
  },
  {
   "cell_type": "markdown",
   "metadata": {},
   "source": [
    "##### Second-order edge detector"
   ]
  },
  {
   "cell_type": "markdown",
   "metadata": {},
   "source": [
    "The second order edge detector is using the Laplace kernel as seen in lectures.\n",
    "\n",
    "The `skimage` toolbox does not provide any implementation of this filter (yet). The `scipy` toolbox, however, does through the function `ndimage.filters.laplace`.\n",
    "\n",
    "**Apply this filter on the Lena image.**"
   ]
  },
  {
   "cell_type": "code",
   "execution_count": null,
   "metadata": {
    "collapsed": false
   },
   "outputs": [],
   "source": []
  },
  {
   "cell_type": "markdown",
   "metadata": {},
   "source": [
    "##### Angular edge detector"
   ]
  },
  {
   "cell_type": "markdown",
   "metadata": {},
   "source": [
    "In the previous section, edges are detected using the response of two kernels (i.e., horizontal and vertical kernels) which are later combined (i.e., magnitude and angle). Gabor filters is a family of filters which are sensitive to a specific angle and a specific frequency.\n",
    "\n",
    "The `filters.gabor` in `skimage` implements this `filter.gabor`. \n",
    "\n",
    "**Apply this filters to find the edge at 60 degrees in Lena image. Try with different frequencies in the range [0.05, 0.5].**"
   ]
  },
  {
   "cell_type": "code",
   "execution_count": null,
   "metadata": {
    "collapsed": false
   },
   "outputs": [],
   "source": []
  },
  {
   "cell_type": "markdown",
   "metadata": {},
   "source": [
    "#### Optimal edge detector - Canny edge detector"
   ]
  },
  {
   "cell_type": "markdown",
   "metadata": {},
   "source": [
    "We saw during the lecture, the Canny edge detector which is also implemented in `skimage` in the `feature` module.\n",
    "\n",
    "**Detect the edges in Lena image using Canny filter.**"
   ]
  },
  {
   "cell_type": "code",
   "execution_count": null,
   "metadata": {
    "collapsed": true
   },
   "outputs": [],
   "source": [
    "from skimage import feature"
   ]
  },
  {
   "cell_type": "code",
   "execution_count": null,
   "metadata": {
    "collapsed": false
   },
   "outputs": [],
   "source": []
  },
  {
   "cell_type": "markdown",
   "metadata": {},
   "source": [
    "##### Denoising filters"
   ]
  },
  {
   "cell_type": "markdown",
   "metadata": {
    "collapsed": true
   },
   "source": [
    "During the lecture, we saw different filters which can be applied in the spatial domain to remove the noise.\n",
    "These filters can be found in the module `filters.rank`."
   ]
  },
  {
   "cell_type": "markdown",
   "metadata": {},
   "source": [
    "Before to start denoising the image, we need to generate some corrupted image using the noise generator from `skimage`.\n",
    "For this purpose, we will use the function `util.random_noise`.\n",
    "\n",
    "**Generate corrupted some Lena images with gaussian noise, salt & peppers noise, and speckle noise. Keep the default parameters.**"
   ]
  },
  {
   "cell_type": "code",
   "execution_count": null,
   "metadata": {
    "collapsed": true
   },
   "outputs": [],
   "source": [
    "from skimage import util"
   ]
  },
  {
   "cell_type": "code",
   "execution_count": null,
   "metadata": {
    "collapsed": false
   },
   "outputs": [],
   "source": []
  },
  {
   "cell_type": "markdown",
   "metadata": {},
   "source": [
    "The first filter that we will study is the `mean` filter. \n",
    "\n",
    "**Apply this filter on the different corrupted Lena image with a mask corresponding to a disk of size 1, 5, and 10**. You can refer to `morphology.disk` regarding the structure element."
   ]
  },
  {
   "cell_type": "code",
   "execution_count": null,
   "metadata": {
    "collapsed": false
   },
   "outputs": [],
   "source": []
  },
  {
   "cell_type": "markdown",
   "metadata": {},
   "source": [
    "We also so that the alpha-trimmed mean filter which work similarly to the normal mean filter. However, this filter considered only the grey values inside a specific range.\n",
    "\n",
    "This function is implemented in `skimage` with the name `mean_percentile`.\n",
    "\n",
    "**Apply this function on the different corrupted Lena by considering the gray value in the range [0.05, 0.95]. Try with different dimension of disk radius.**"
   ]
  },
  {
   "cell_type": "code",
   "execution_count": null,
   "metadata": {
    "collapsed": false
   },
   "outputs": [],
   "source": []
  },
  {
   "cell_type": "markdown",
   "metadata": {},
   "source": [
    "Median filter performs better than mean filter in the presence of salt & peppers noise.\n",
    "\n",
    "This filter is implemented in `skimage` in the function `median`.\n",
    "\n",
    "**Apply this filtering method in the different Lena with the different radius as previously experimented.**"
   ]
  },
  {
   "cell_type": "code",
   "execution_count": null,
   "metadata": {
    "collapsed": false
   },
   "outputs": [],
   "source": []
  },
  {
   "cell_type": "markdown",
   "metadata": {},
   "source": [
    "In the same manner, **apply the `maximum`, `minimum`, and `midpoint` filters.**"
   ]
  },
  {
   "cell_type": "markdown",
   "metadata": {},
   "source": [
    "#### Optimal filter using Wiener filter."
   ]
  },
  {
   "cell_type": "markdown",
   "metadata": {},
   "source": [
    "We saw that Wiener filter is the optimal filter which minimize the least-square error.\n",
    "This filter is implemented in the module `restoration` of `skimage`. \n",
    "\n",
    "**Apply this filter on the following blur and noisy image**"
   ]
  },
  {
   "cell_type": "code",
   "execution_count": null,
   "metadata": {
    "collapsed": true
   },
   "outputs": [],
   "source": [
    "from skimage import restoration"
   ]
  },
  {
   "cell_type": "code",
   "execution_count": null,
   "metadata": {
    "collapsed": false
   },
   "outputs": [],
   "source": []
  },
  {
   "cell_type": "markdown",
   "metadata": {},
   "source": [
    "### Frequency filtering"
   ]
  },
  {
   "cell_type": "markdown",
   "metadata": {},
   "source": [
    "We also saw that we can perform filtering in the frequency domain using the Fourier transform.\n",
    "\n",
    "Using the algorithm presented in the lecture, filter the Lena image using a Sobel kernel."
   ]
  },
  {
   "cell_type": "code",
   "execution_count": null,
   "metadata": {
    "collapsed": true
   },
   "outputs": [],
   "source": []
  },
  {
   "cell_type": "code",
   "execution_count": null,
   "metadata": {
    "collapsed": false
   },
   "outputs": [],
   "source": []
  },
  {
   "cell_type": "code",
   "execution_count": null,
   "metadata": {
    "collapsed": true
   },
   "outputs": [],
   "source": []
  },
  {
   "cell_type": "code",
   "execution_count": null,
   "metadata": {
    "collapsed": true
   },
   "outputs": [],
   "source": []
  },
  {
   "cell_type": "code",
   "execution_count": null,
   "metadata": {
    "collapsed": false
   },
   "outputs": [],
   "source": []
  },
  {
   "cell_type": "markdown",
   "metadata": {},
   "source": [
    "We also saw some typical low- and high-pass filters: (i) ideal, (ii) Butterworth, and (iii) Gaussian filters.\n",
    "We recall the formulation of each of these filters.\n",
    "\n",
    "* The ideal low-pass filter is formulated as: $H_{lp}(u,v) =\n",
    "  \\begin{cases}\n",
    "    1  & \\quad \\text{if } D(u, v) \\leq D_0\\\\\n",
    "    0  & \\quad \\text{if } D(u, v) > D_0\\\\\n",
    "  \\end{cases}\n",
    "$ with $D_0$ is a positive constant and $D(u,v)$ is the distance between the point $(u,v)$ and the center.\n",
    "* The Butterworth low-pass filter is formulated as: $H_{lp}(u,v) = \\frac{1}{1+[D(u,v)/D_0]^{2n}}$ with $n$ the order of the filter.\n",
    "* The Gaussian low-pass filter is formulated as: $H_{lp}(u,v) = \\exp{\\left(-D^{2}(u,v)/D_0^{2}\\right)}$.\n",
    "\n",
    "The high-pass filter are obtained such that $H_{hp} = 1 - H_{lp}$.\n",
    "\n",
    "** Implement and apply these filters.**"
   ]
  },
  {
   "cell_type": "code",
   "execution_count": null,
   "metadata": {
    "collapsed": true
   },
   "outputs": [],
   "source": []
  },
  {
   "cell_type": "code",
   "execution_count": null,
   "metadata": {
    "collapsed": false
   },
   "outputs": [],
   "source": []
  },
  {
   "cell_type": "code",
   "execution_count": null,
   "metadata": {
    "collapsed": true
   },
   "outputs": [],
   "source": []
  },
  {
   "cell_type": "code",
   "execution_count": null,
   "metadata": {
    "collapsed": true
   },
   "outputs": [],
   "source": []
  },
  {
   "cell_type": "code",
   "execution_count": null,
   "metadata": {
    "collapsed": true
   },
   "outputs": [],
   "source": []
  },
  {
   "cell_type": "code",
   "execution_count": null,
   "metadata": {
    "collapsed": true
   },
   "outputs": [],
   "source": []
  },
  {
   "cell_type": "code",
   "execution_count": null,
   "metadata": {
    "collapsed": true
   },
   "outputs": [],
   "source": []
  },
  {
   "cell_type": "code",
   "execution_count": null,
   "metadata": {
    "collapsed": true
   },
   "outputs": [],
   "source": []
  },
  {
   "cell_type": "code",
   "execution_count": null,
   "metadata": {
    "collapsed": false
   },
   "outputs": [],
   "source": []
  },
  {
   "cell_type": "code",
   "execution_count": null,
   "metadata": {
    "collapsed": false
   },
   "outputs": [],
   "source": []
  },
  {
   "cell_type": "code",
   "execution_count": null,
   "metadata": {
    "collapsed": false
   },
   "outputs": [],
   "source": []
  },
  {
   "cell_type": "code",
   "execution_count": null,
   "metadata": {
    "collapsed": false
   },
   "outputs": [],
   "source": []
  },
  {
   "cell_type": "markdown",
   "metadata": {},
   "source": [
    "### Morphological transformation"
   ]
  },
  {
   "cell_type": "markdown",
   "metadata": {},
   "source": [
    "During the lecture, we presented several basic morphological operation. They are present in the module `morphology` in the `skimage`. \n",
    "\n",
    "**Using the image `bin_image.png`, apply successively the `erosion`, `dilation`, `opening`, `closing`, and `skeletonize`.** Use any structural element that you like."
   ]
  },
  {
   "cell_type": "code",
   "execution_count": null,
   "metadata": {
    "collapsed": true
   },
   "outputs": [],
   "source": [
    "from skimage import morphology"
   ]
  },
  {
   "cell_type": "code",
   "execution_count": null,
   "metadata": {
    "collapsed": false
   },
   "outputs": [],
   "source": []
  }
 ],
 "metadata": {
  "kernelspec": {
   "display_name": "Python 2",
   "language": "python",
   "name": "python2"
  },
  "language_info": {
   "codemirror_mode": {
    "name": "ipython",
    "version": 2
   },
   "file_extension": ".py",
   "mimetype": "text/x-python",
   "name": "python",
   "nbconvert_exporter": "python",
   "pygments_lexer": "ipython2",
   "version": "2.7.10"
  }
 },
 "nbformat": 4,
 "nbformat_minor": 0
}
